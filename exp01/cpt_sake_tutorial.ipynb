{
  "cells": [
    {
      "cell_type": "markdown",
      "metadata": {
        "id": "_7WBuGlMM8CZ"
      },
      "source": [
        "# 本ノートブックの説明\n",
        "今回のコンペのデータに関するEDAとConvNeXt Baseモデルを使用して画像特徴量を抽出し、faissを使用してコサイン類似度の高いもの画像を検索し、提出ファイルを作成する流れを紹介します。\n",
        "過去の類似コンペとして[AI×商標：イメージサーチコンペティション（類似商標画像の検出）](https://competition.nishika.com/competitions/patent/summary)がございます。必要に応じてそちらもご確認ください。\n",
        "\n"
      ]
    },
    {
      "cell_type": "markdown",
      "metadata": {
        "id": "AWTcuFR6OpAF"
      },
      "source": [
        "## 前提\n",
        "- 本ノートブックでは以下のディレクトリ構成を想定して実装されています。こちらを活用する場合はその点にご留意ください。またGPU環境(Tesla T4）で動作確認を行なっております。\n",
        "\n",
        "\n",
        "```\n",
        "/content: Google Colaboratory実行時のカレントディレクトリ\n",
        "┣ cite_images: 事前作成不要。Google Drive上のcite_images.zip展開後に作成されます。\n",
        "┣ query_images: 事前作成不要。Google Drive上のquery_images.zip展開後に作成されます\n",
        "┗ /drive/MyDrive/cpt-sake/: ベースとなる作業ディレクトリ\n",
        "　　　　　┣ data: 本コンペで提供されているデータを格納するディレクトリ\n",
        "   ┃ ┣ train.csv: 訓練データ\n",
        "   ┃ ┣ cite.csv: 引用データ\n",
        "   ┃ ┣ test.csv: 評価データ\n",
        "   ┃ ┣ cite_images.zip: 引用画像\n",
        "   ┃ ┣ query_images.zip: クエリ画像（訓練データ、評価データの画像）\n",
        "   ┃ ┣ test.csv: 評価データ\n",
        "   ┃ ┗ sample_submission.csv: 提出用データのサンプル\n",
        "   ┣ features: 画像特徴量を保存するディレクトリ\n",
        "   ┣ index: 索引を保存するディレクトリ\n",
        "   ┣ model: モデルを保存するディレクトリ\n",
        "   ┗ output: 本コンペで提出するファイルを格納するディレクトリ\n",
        "```"
      ]
    },
    {
      "cell_type": "markdown",
      "metadata": {
        "id": "QNEzPmu1xRn9"
      },
      "source": [
        "## 注意事項\n",
        "- インデックス作成処理については１時間ほど要します。"
      ]
    },
    {
      "cell_type": "markdown",
      "metadata": {
        "id": "BP2bxaFqKNMd"
      },
      "source": [
        "## 設定\n",
        "- Google Driveのマウント\n",
        "- 画像ファイルの展開\n",
        "- 追加で必要なライブラリ(faiss-gpu, japanize_matplotlib, timm)のインストール"
      ]
    },
    {
      "cell_type": "code",
      "execution_count": null,
      "metadata": {
        "colab": {
          "base_uri": "https://localhost:8080/"
        },
        "id": "DUUj99p6Q8II",
        "outputId": "ea7012c9-e3c3-4ca4-f19c-5e7f53cfbbf2"
      },
      "outputs": [],
      "source": [
        "!nvidia-smi\n"
      ]
    },
    {
      "cell_type": "code",
      "execution_count": null,
      "metadata": {
        "id": "20n0vQSsyQsc"
      },
      "outputs": [],
      "source": [
        "import collections\n",
        "import math\n",
        "import os\n",
        "import random\n",
        "import typing\n",
        "from pathlib import Path\n",
        "\n",
        "import faiss\n",
        "import japanize_matplotlib\n",
        "import matplotlib.pyplot as plt\n",
        "import missingno as msno\n",
        "import numpy as np\n",
        "import pandas as pd\n",
        "import seaborn as sns\n",
        "import timm\n",
        "import torch\n",
        "import torch.nn.functional as F\n",
        "import torch.optim as optim\n",
        "import torchvision\n",
        "from albumentations import Compose, Normalize, Resize\n",
        "from albumentations.pytorch.transforms import ToTensorV2\n",
        "from PIL import Image\n",
        "from sklearn.model_selection import StratifiedKFold\n",
        "from sklearn.preprocessing import LabelEncoder\n",
        "from torch import nn\n",
        "from torch.nn import CrossEntropyLoss, Parameter\n",
        "from torch.utils.data import DataLoader, Dataset\n",
        "from tqdm.notebook import tqdm\n"
      ]
    },
    {
      "cell_type": "code",
      "execution_count": null,
      "metadata": {
        "id": "wCasbCzpbL6w"
      },
      "outputs": [],
      "source": [
        "BASE_DIR = Path(\"/media/data/sake_brand_image_search\")\n",
        "DATA_DIR = BASE_DIR.joinpath(\"data\")\n",
        "FEATURES_DIR = BASE_DIR.joinpath(\"features\")\n",
        "OUT_DIR = BASE_DIR.joinpath(\"output\")\n",
        "INDEX_DIR = BASE_DIR.joinpath(\"index\")\n",
        "MODEL_DIR = BASE_DIR.joinpath(\"model\")\n",
        "CITE_IMG_DIR = BASE_DIR.joinpath(\"cite_images\")\n",
        "QUERY_IMG_DIR = BASE_DIR.joinpath(\"query_images\")\n",
        "DEVICE = \"cuda\" if torch.cuda.is_available() else \"cpu\"\n",
        "EXP_NAME = \"cpt-sake-tutorial\"\n",
        "\n",
        "\n",
        "class CFG:\n",
        "    img_size = 224\n",
        "    model_name = \"convnext_base\"\n",
        "    in_channels = 3\n",
        "    embedding_dim = 128\n",
        "    pretrained = True\n",
        "    batch_size = 128\n",
        "    n_workers = 0\n",
        "    seed = 0\n"
      ]
    },
    {
      "cell_type": "code",
      "execution_count": null,
      "metadata": {
        "id": "OU4ldVj8ou1o"
      },
      "outputs": [],
      "source": [
        "def seed_torch(seed=42):\n",
        "    random.seed(seed)\n",
        "    os.environ['PYTHONHASHSEED'] = str(seed)\n",
        "    np.random.seed(seed)\n",
        "    torch.manual_seed(seed)\n",
        "    torch.cuda.manual_seed(seed)\n",
        "    torch.backends.cudnn.deterministic = True\n",
        "\n",
        "\n",
        "seed_torch(CFG.seed)\n"
      ]
    },
    {
      "cell_type": "markdown",
      "metadata": {
        "id": "gqQaI8J54Ckl"
      },
      "source": [
        "# データ"
      ]
    },
    {
      "cell_type": "code",
      "execution_count": null,
      "metadata": {
        "id": "w3-SojJUyhCo"
      },
      "outputs": [],
      "source": [
        "cite_filepath = DATA_DIR.joinpath(\"cite.csv\")\n",
        "train_filepath = DATA_DIR.joinpath(\"train.csv\")\n",
        "test_filepath = DATA_DIR.joinpath(\"test.csv\")\n",
        "sub_filepath = DATA_DIR.joinpath(\"sample_submission.csv\")\n",
        "df_cite = pd.read_csv(cite_filepath)\n",
        "df_train = pd.read_csv(train_filepath)\n",
        "df_test = pd.read_csv(test_filepath)\n",
        "df_sub = pd.read_csv(sub_filepath)\n"
      ]
    },
    {
      "cell_type": "markdown",
      "metadata": {
        "id": "l3ZgGOT6T0Rs"
      },
      "source": [
        "## データの形式、概要確認"
      ]
    },
    {
      "cell_type": "code",
      "execution_count": null,
      "metadata": {
        "colab": {
          "base_uri": "https://localhost:8080/"
        },
        "id": "HpMJ7fAdW_FG",
        "outputId": "8aed9bb1-39ea-48f7-e25d-cf50e758e88a"
      },
      "outputs": [],
      "source": [
        "df_cite.shape\n"
      ]
    },
    {
      "cell_type": "code",
      "execution_count": null,
      "metadata": {
        "colab": {
          "base_uri": "https://localhost:8080/",
          "height": 206
        },
        "id": "pKOVfUaQWCoP",
        "outputId": "0afef7b6-9c9d-4e1d-dde2-46ecfac6f9df"
      },
      "outputs": [],
      "source": [
        "df_cite.head()\n"
      ]
    },
    {
      "cell_type": "code",
      "execution_count": null,
      "metadata": {},
      "outputs": [],
      "source": [
        "df_cite.tail()\n"
      ]
    },
    {
      "cell_type": "code",
      "execution_count": null,
      "metadata": {
        "colab": {
          "base_uri": "https://localhost:8080/"
        },
        "id": "Kel7sLr6WFtE",
        "outputId": "10871fb7-495c-4d58-c314-5ccd947e8658"
      },
      "outputs": [],
      "source": [
        "df_cite.isna().sum()\n"
      ]
    },
    {
      "cell_type": "code",
      "execution_count": null,
      "metadata": {
        "colab": {
          "base_uri": "https://localhost:8080/"
        },
        "id": "HqwXco5-XDCf",
        "outputId": "52fd7b4d-04a2-4e4c-9640-fffcba4ab46b"
      },
      "outputs": [],
      "source": [
        "df_train.shape\n"
      ]
    },
    {
      "cell_type": "code",
      "execution_count": null,
      "metadata": {
        "colab": {
          "base_uri": "https://localhost:8080/",
          "height": 206
        },
        "id": "qfzFuXUDT698",
        "outputId": "71bf4f9c-a65e-4194-ff09-359d36bed145"
      },
      "outputs": [],
      "source": [
        "df_train.head()\n"
      ]
    },
    {
      "cell_type": "code",
      "execution_count": null,
      "metadata": {},
      "outputs": [],
      "source": [
        "df_train.tail()\n"
      ]
    },
    {
      "cell_type": "code",
      "execution_count": null,
      "metadata": {
        "colab": {
          "base_uri": "https://localhost:8080/"
        },
        "id": "HAVB7x2wT9uW",
        "outputId": "1895b8c2-8424-458b-97f7-a8f572b69a5a"
      },
      "outputs": [],
      "source": [
        "df_train.isna().sum()\n"
      ]
    },
    {
      "cell_type": "code",
      "execution_count": null,
      "metadata": {
        "colab": {
          "base_uri": "https://localhost:8080/",
          "height": 81
        },
        "id": "qnHeBEz3WLcn",
        "outputId": "4e7ff344-8c76-448d-f5e6-26eebcc1cc7f"
      },
      "outputs": [],
      "source": [
        "df_train[df_train[\"meigara\"].isna()]\n"
      ]
    },
    {
      "cell_type": "code",
      "execution_count": null,
      "metadata": {
        "colab": {
          "base_uri": "https://localhost:8080/"
        },
        "id": "WGGXGGHiXKL0",
        "outputId": "ae0c4102-322e-4716-eec1-7c6ec181ba4b"
      },
      "outputs": [],
      "source": [
        "df_test.shape\n"
      ]
    },
    {
      "cell_type": "code",
      "execution_count": null,
      "metadata": {
        "colab": {
          "base_uri": "https://localhost:8080/",
          "height": 206
        },
        "id": "g616vDBuWmkP",
        "outputId": "a6598a80-d94c-4ec7-80da-8d43dfbaee18"
      },
      "outputs": [],
      "source": [
        "df_test.head()\n"
      ]
    },
    {
      "cell_type": "code",
      "execution_count": null,
      "metadata": {},
      "outputs": [],
      "source": [
        "df_test.tail()"
      ]
    },
    {
      "cell_type": "code",
      "execution_count": null,
      "metadata": {
        "colab": {
          "base_uri": "https://localhost:8080/"
        },
        "id": "169RGUjeW4pX",
        "outputId": "0c680ae4-0ee9-4907-ee18-488b197c3630"
      },
      "outputs": [],
      "source": [
        "df_test.isna().sum()\n"
      ]
    },
    {
      "cell_type": "markdown",
      "metadata": {
        "id": "Lol3MbCelOx4"
      },
      "source": [
        "## 提出ファイルの形式確認"
      ]
    },
    {
      "cell_type": "code",
      "execution_count": null,
      "metadata": {
        "colab": {
          "base_uri": "https://localhost:8080/",
          "height": 206
        },
        "id": "kCCat6MolRaj",
        "outputId": "9730c77d-da76-41fc-e374-bca98a673ce7"
      },
      "outputs": [],
      "source": [
        "df_sub.head()\n"
      ]
    },
    {
      "cell_type": "code",
      "execution_count": null,
      "metadata": {
        "colab": {
          "base_uri": "https://localhost:8080/"
        },
        "id": "r4gjrozGlWsd",
        "outputId": "fc019d65-3815-452d-f6e2-8bd66257e98a"
      },
      "outputs": [],
      "source": [
        "df_sub.dtypes\n"
      ]
    },
    {
      "cell_type": "markdown",
      "metadata": {
        "id": "myHzNnJslk-a"
      },
      "source": [
        "引用画像ID(gid)をスペースでつないだ文字列を予測結果とします。"
      ]
    },
    {
      "cell_type": "code",
      "execution_count": null,
      "metadata": {
        "colab": {
          "base_uri": "https://localhost:8080/"
        },
        "id": "7t-AjySklba_",
        "outputId": "25fa0180-6578-48de-b8ca-34d5a9cde96b"
      },
      "outputs": [],
      "source": [
        "pred_sample = df_sub[\"cite_gid\"].values[0]\n",
        "print(pred_sample)\n"
      ]
    },
    {
      "cell_type": "markdown",
      "metadata": {
        "id": "0wKZ7yUHRkks"
      },
      "source": [
        "## 画像ファイルのパス情報追加"
      ]
    },
    {
      "cell_type": "code",
      "execution_count": null,
      "metadata": {
        "id": "Dwm7fLaFRvTo"
      },
      "outputs": [],
      "source": [
        "cite_filenames = df_cite[\"cite_filename\"].to_list()\n",
        "df_cite[\"path\"] = [str(CITE_IMG_DIR.joinpath(filename))\n",
        "                   for filename in cite_filenames]\n",
        "train_filenames = df_train[\"filename\"].to_list()\n",
        "df_train[\"path\"] = [str(QUERY_IMG_DIR.joinpath(filename))\n",
        "                    for filename in train_filenames]\n",
        "test_filenames = df_test[\"filename\"].to_list()\n",
        "df_test[\"path\"] = [str(QUERY_IMG_DIR.joinpath(filename))\n",
        "                   for filename in test_filenames]\n"
      ]
    },
    {
      "cell_type": "code",
      "execution_count": null,
      "metadata": {},
      "outputs": [],
      "source": [
        "from sklearn import preprocessing\n",
        "le = preprocessing.LabelEncoder()\n",
        "le.fit(df_train[\"meigara\"])\n",
        "le.transform(df_train[\"meigara\"])\n",
        "le.classes_.shape"
      ]
    },
    {
      "cell_type": "markdown",
      "metadata": {
        "id": "CBOn2v51XQaN"
      },
      "source": [
        "## 訓練データ brand_id, meigara"
      ]
    },
    {
      "cell_type": "markdown",
      "metadata": {
        "id": "kUhUXp1oXgKt"
      },
      "source": [
        "酒のブランドを識別するbrand_id"
      ]
    },
    {
      "cell_type": "code",
      "execution_count": null,
      "metadata": {
        "colab": {
          "base_uri": "https://localhost:8080/",
          "height": 480
        },
        "id": "ITHU6J_yXYyb",
        "outputId": "7029158c-6a3e-454e-b320-72c1e9fab487"
      },
      "outputs": [],
      "source": [
        "topn = 20\n",
        "print(\"訓練データ内のbrand_idの種類数：{:4d}\".format(df_train[\"brand_id\"].nunique()))\n",
        "ax = sns.countplot(x=df_train[\"brand_id\"], order=pd.value_counts(\n",
        "    df_train['brand_id']).iloc[:topn].index)\n",
        "ax.set_xticklabels(ax.get_xticklabels(), rotation=30)\n",
        "plt.show()\n"
      ]
    },
    {
      "cell_type": "code",
      "execution_count": null,
      "metadata": {
        "colab": {
          "base_uri": "https://localhost:8080/",
          "height": 504
        },
        "id": "HCNdzswiY05l",
        "outputId": "675cecf0-27f9-4463-f2c5-9bd024da6d01"
      },
      "outputs": [],
      "source": [
        "topn = 20\n",
        "print(\"訓練データ内のmeigaraの種類数：{:4d}\".format(df_train[\"meigara\"].nunique()))\n",
        "ax = sns.countplot(x=df_train[\"meigara\"], order=pd.value_counts(\n",
        "    df_train['meigara']).iloc[:topn].index)\n",
        "ax.set_xticklabels(ax.get_xticklabels(), rotation=30)\n",
        "plt.show()\n"
      ]
    },
    {
      "cell_type": "markdown",
      "metadata": {
        "id": "LvH3M1p-bwWt"
      },
      "source": [
        "## meigaraが同じ画像サンプルを確認\n",
        "- meigara：brand_idは多くの場合1:1ですが、１：Nの場合が一部存在し、別の酒蔵が同じ銘柄の商品を出す場合に別のブランドとして扱われております。\n",
        "- 今回の画像検索の難しい点として、以下の点が確認できます。\n",
        " - お酒にフォーカスして撮影された写真もあれば、料理と一緒に撮影された写真もあります。\n",
        " - 同じブランドであってもお酒の容器のラベルレイアウトに複数の種類がある場合があります。\n"
      ]
    },
    {
      "cell_type": "code",
      "execution_count": null,
      "metadata": {
        "colab": {
          "base_uri": "https://localhost:8080/",
          "height": 551
        },
        "id": "wtmyBfktcK8O",
        "outputId": "4e553d4c-ab98-4a8a-9c29-9865c44a71e5"
      },
      "outputs": [],
      "source": [
        "df_brand = df_train.groupby(\"meigara\")[\"brand_id\"].nunique().to_frame()\n",
        "df_brand[df_brand[\"brand_id\"] > 1]\n"
      ]
    },
    {
      "cell_type": "markdown",
      "metadata": {
        "id": "phBOTjEejJai"
      },
      "source": [
        "BLACK JACK"
      ]
    },
    {
      "cell_type": "code",
      "execution_count": null,
      "metadata": {
        "colab": {
          "base_uri": "https://localhost:8080/",
          "height": 175
        },
        "id": "cewItifehsgx",
        "outputId": "78e9f8b8-bee5-402d-dac3-a9909b182b62"
      },
      "outputs": [],
      "source": [
        "df_train[df_train[\"meigara\"] == \"BLACK JACK\"].head()\n"
      ]
    },
    {
      "cell_type": "code",
      "execution_count": null,
      "metadata": {
        "id": "DhTm33zEiKLv"
      },
      "outputs": [],
      "source": [
        "# @title\n",
        "def show_same_meigara(meigara: str) -> None:\n",
        "    image_paths = df_train.loc[df_train[\"meigara\"]\n",
        "                               == meigara, \"path\"].to_numpy()\n",
        "    brand_ids = df_train.loc[df_train[\"meigara\"]\n",
        "                             == meigara, \"brand_id\"].to_numpy()\n",
        "    col = 2\n",
        "    # row = int(len(image_paths)/col)\n",
        "    row = int(len(image_paths)/col)\n",
        "    # サンプル数が奇数の場合、２列で表示できる分だけ表示する\n",
        "    n_samples = row * col\n",
        "    fig, axs = plt.subplots(row, col, figsize=(col * 5, row * 5))\n",
        "    for i, path in enumerate(image_paths[:n_samples]):\n",
        "        j = int(i / 2)\n",
        "        k = i % 2\n",
        "        image = Image.open(path)\n",
        "        axs[j, k].imshow(image)\n",
        "        title = f\"brand_id: {str(brand_ids[i])}\"\n",
        "        axs[j, k].set_title(title)\n",
        "        axs[j, k].axis('off')  # 軸を非表示にする\n",
        "    plt.show()\n"
      ]
    },
    {
      "cell_type": "code",
      "execution_count": null,
      "metadata": {
        "colab": {
          "base_uri": "https://localhost:8080/",
          "height": 828
        },
        "id": "N1AJA90ri0j3",
        "outputId": "1904d49e-4d30-4039-96e4-595963bd725a"
      },
      "outputs": [],
      "source": [
        "show_same_meigara(meigara=\"BLACK JACK\")\n"
      ]
    },
    {
      "cell_type": "markdown",
      "metadata": {
        "id": "zMxbQWqzjMIf"
      },
      "source": [
        "亀の尾"
      ]
    },
    {
      "cell_type": "code",
      "execution_count": null,
      "metadata": {
        "colab": {
          "base_uri": "https://localhost:8080/",
          "height": 206
        },
        "id": "fLTDxamkjWP-",
        "outputId": "5124e64c-0d4f-46e8-d813-6e7cfa93cba1"
      },
      "outputs": [],
      "source": [
        "df_train[df_train[\"meigara\"] == \"亀の尾\"].head()\n"
      ]
    },
    {
      "cell_type": "code",
      "execution_count": null,
      "metadata": {
        "colab": {
          "base_uri": "https://localhost:8080/",
          "height": 828
        },
        "id": "UpHsU912jaMs",
        "outputId": "f6483988-ab05-49eb-ffc6-539b6a0a91da"
      },
      "outputs": [],
      "source": [
        "show_same_meigara(meigara=\"亀の尾\")\n"
      ]
    },
    {
      "cell_type": "markdown",
      "metadata": {
        "id": "cjYK1K_YlDxS"
      },
      "source": [
        "　初桜"
      ]
    },
    {
      "cell_type": "code",
      "execution_count": null,
      "metadata": {
        "colab": {
          "base_uri": "https://localhost:8080/",
          "height": 206
        },
        "id": "sy7l0HEumPNr",
        "outputId": "fdda3c79-be3f-48b1-954c-b3b02199041e"
      },
      "outputs": [],
      "source": [
        "df_train[df_train[\"meigara\"] == \"初桜\"].head()\n"
      ]
    },
    {
      "cell_type": "code",
      "execution_count": null,
      "metadata": {
        "colab": {
          "base_uri": "https://localhost:8080/",
          "height": 1000
        },
        "id": "vdaivbdgkfM-",
        "outputId": "4134d9b7-99bc-4e60-add7-163b0e6fe655"
      },
      "outputs": [],
      "source": [
        "show_same_meigara(meigara=\"初桜\")\n"
      ]
    },
    {
      "cell_type": "markdown",
      "metadata": {
        "id": "DEfB2dvIWWb0"
      },
      "source": [
        "## データセット"
      ]
    },
    {
      "cell_type": "code",
      "execution_count": null,
      "metadata": {
        "id": "fXFHa6PnzdH7"
      },
      "outputs": [],
      "source": [
        "IMAGENET_MEAN = [0.485, 0.456, 0.406]  # RGB\n",
        "IMAGENET_STD = [0.229, 0.224, 0.225]  # RGB\n",
        "\n",
        "\n",
        "class SakeDataset(Dataset):\n",
        "    def __init__(self, image_filepaths: list, labels: list = None,\n",
        "                 transform: typing.Dict[str, typing.Any] = None) -> None:\n",
        "        self.image_filepaths = image_filepaths\n",
        "        self.labels = labels\n",
        "        self.transform = transform\n",
        "\n",
        "    def __len__(self) -> int:\n",
        "        return len(self.image_filepaths)\n",
        "\n",
        "    def __getitem__(self, idx: int) -> typing.Tuple[torch.tensor, torch.tensor]:\n",
        "        item = dict()\n",
        "        image_filepath = self.image_filepaths[idx]\n",
        "        image = self.__read_image(image_filepath)\n",
        "        if self.transform is not None:\n",
        "            image = self.transform(image=image)[\"image\"]\n",
        "            item[\"image\"] = image\n",
        "\n",
        "        if self.labels is not None:\n",
        "            label = self.labels[idx]\n",
        "            label = torch.tensor(label, dtype=torch.long)\n",
        "            item[\"label\"] = label\n",
        "        return item\n",
        "\n",
        "    def __read_image(self, path: str) -> None:\n",
        "        with open(path, 'rb') as f:\n",
        "            image = Image.open(f)\n",
        "            image_rgb = image.convert('RGB')\n",
        "        image = np.array(image_rgb)\n",
        "        return image\n",
        "\n",
        "\n",
        "def get_transforms(img_size: int = 224) -> torch.tensor:\n",
        "    return Compose(\n",
        "        [\n",
        "            Resize(img_size, img_size),\n",
        "            Normalize(mean=IMAGENET_MEAN, std=IMAGENET_STD),\n",
        "            ToTensorV2()\n",
        "        ]\n",
        "    )\n"
      ]
    },
    {
      "cell_type": "code",
      "execution_count": null,
      "metadata": {},
      "outputs": [],
      "source": []
    },
    {
      "cell_type": "code",
      "execution_count": null,
      "metadata": {},
      "outputs": [],
      "source": [
        "df_train[\"brand_id\"]\n"
      ]
    },
    {
      "cell_type": "code",
      "execution_count": null,
      "metadata": {},
      "outputs": [],
      "source": [
        "train_dataset = SakeDataset(\n",
        "    image_filepaths=df_train[\"path\"].to_list(),\n",
        "    labels=df_train[\"brand_id\"].to_list(),\n",
        "    transform=get_transforms()\n",
        ")\n"
      ]
    },
    {
      "cell_type": "code",
      "execution_count": null,
      "metadata": {},
      "outputs": [],
      "source": [
        "train_dataset.__getitem__(0)[\"label\"]\n"
      ]
    },
    {
      "cell_type": "markdown",
      "metadata": {
        "id": "ZGoU8JWq50Dh"
      },
      "source": [
        "# ConvNeXt Baseモデルの画像特徴量で検索"
      ]
    },
    {
      "cell_type": "code",
      "execution_count": null,
      "metadata": {
        "id": "309PvIvd2yxe"
      },
      "outputs": [],
      "source": [
        "class SakeNet(nn.Module):\n",
        "    def __init__(\n",
        "        self,\n",
        "        cfg\n",
        "    ):\n",
        "        super().__init__()\n",
        "        self.cfg = cfg\n",
        "        if hasattr(timm.models, cfg.model_name):\n",
        "            base_model = timm.create_model(\n",
        "                cfg.model_name, num_classes=0, pretrained=cfg.pretrained, in_chans=cfg.in_channels)\n",
        "            in_features = base_model.num_features\n",
        "            self.backbone = base_model\n",
        "            print(\"load imagenet model_name:\", cfg.model_name)\n",
        "            print(\"load imagenet pretrained:\", cfg.pretrained)\n",
        "        else:\n",
        "            raise NotImplementedError\n",
        "        self.in_features = in_features\n",
        "        self.fc = nn.Linear(self.in_features, cfg.embedding_dim)\n",
        "\n",
        "    def get_embedding(self, image: torch.tensor) -> torch.tensor:\n",
        "        output = self.backbone(image)\n",
        "        output = self.fc(output)\n",
        "        return output\n"
      ]
    },
    {
      "cell_type": "code",
      "execution_count": null,
      "metadata": {
        "colab": {
          "base_uri": "https://localhost:8080/",
          "height": 84,
          "referenced_widgets": [
            "2c421aaac0b645cc80ad0245a7f4d2d2",
            "9f0c0bf3aefd4d86945e87b308cff594",
            "0ef3413fdcc84491aa93fbcc78ca2501",
            "474572f135714fe4a13cf1c2995b5df5",
            "c46d87699a374875b01c3ea4a40d0b9d",
            "dfba460570174baa9eb153484b08b75a",
            "95d79e01de4e40e6808e9cf4459985d0",
            "5576241199af4c56b1b0884ce922b2e8",
            "97eaef1a85ad411aaea84eb2267b0a13",
            "b46ac524e12d4743be788a5d0ddf6e89",
            "13b60a35c7eb485aae3d4b2e380e4845"
          ]
        },
        "id": "PObtrxXmMK5b",
        "outputId": "b379aed4-7887-4c7f-bed4-071e61631b7b"
      },
      "outputs": [],
      "source": [
        "model = SakeNet(cfg=CFG)\n",
        "model = model.to(DEVICE)\n",
        "model_path = MODEL_DIR.joinpath(f\"{EXP_NAME}.pth\")\n",
        "torch.save(model.state_dict(), model_path)\n"
      ]
    },
    {
      "cell_type": "markdown",
      "metadata": {
        "id": "_jMqzOWrJuZs"
      },
      "source": [
        "## インデックス作成"
      ]
    },
    {
      "cell_type": "code",
      "execution_count": null,
      "metadata": {
        "id": "rs0NjOkUsilM"
      },
      "outputs": [],
      "source": [
        "def infer(data_loader: DataLoader, model: nn.Module) -> np.array:\n",
        "    stream = tqdm(data_loader)\n",
        "    model.eval()\n",
        "    embedding = []\n",
        "    for batch in stream:\n",
        "        images = batch[\"image\"].to(DEVICE, non_blocking=True).float()\n",
        "        # targets = batch[\"target\"].to(DEVICE, non_blocking = True).float().view(-1, 1)\n",
        "        with torch.set_grad_enabled(mode=False):\n",
        "            output = model.get_embedding(images)\n",
        "            embedding.append(output.detach().cpu().numpy())\n",
        "    embedding = np.concatenate(embedding)\n",
        "    return embedding\n"
      ]
    },
    {
      "cell_type": "code",
      "execution_count": null,
      "metadata": {
        "colab": {
          "base_uri": "https://localhost:8080/",
          "height": 84,
          "referenced_widgets": [
            "06dfb74d16ed453bb93ea4be82210c1f",
            "e1da2c6f821246238d459ea95b704e3b",
            "34540f0572ec44bea0887b50833e199f",
            "e88879c17444413a9fd6bd6c465d83b7",
            "7a7b2c2720fb41a58e90837c29bc8691",
            "0b341e997b2c49de9879d879e86c311d",
            "9dc95f579d404cd3acb8152c947ae835",
            "b14c116d731e4e4abcf7968996cc424a",
            "970989b197f64b3c9788d426de5e0dd4",
            "9cb05565d13f47cd8a0c3f48485cbe56",
            "ff9a8759e8ac4294b583432d8cf67ee4"
          ]
        },
        "id": "MhNe0T_GEfNv",
        "outputId": "7db57c0e-9bd7-4359-bf20-b0ab029ed3e3"
      },
      "outputs": [],
      "source": [
        "cite_dataset = SakeDataset(\n",
        "    image_filepaths=df_cite[\"path\"].to_list(),\n",
        "    transform=get_transforms()\n",
        ")\n",
        "cite_loader = DataLoader(\n",
        "    cite_dataset,\n",
        "    batch_size=CFG.batch_size,\n",
        "    shuffle=False,\n",
        "    num_workers=CFG.n_workers,\n",
        "    pin_memory=True\n",
        ")\n",
        "model = SakeNet(cfg=CFG)\n",
        "model = model.to(DEVICE)\n",
        "model.load_state_dict(torch.load(model_path))\n",
        "cite_embedding = infer(cite_loader, model)\n"
      ]
    },
    {
      "cell_type": "code",
      "execution_count": null,
      "metadata": {
        "id": "wWo6cDO7KWnM"
      },
      "outputs": [],
      "source": [
        "np.save(FEATURES_DIR.joinpath(\n",
        "    f\"cite_embedding_{EXP_NAME}.npy\"), cite_embedding)\n"
      ]
    },
    {
      "cell_type": "code",
      "execution_count": null,
      "metadata": {
        "colab": {
          "base_uri": "https://localhost:8080/"
        },
        "id": "Qcj6gdPKlS7g",
        "outputId": "2d74c078-67a0-4601-ad05-61ac85b7df8d"
      },
      "outputs": [],
      "source": [
        "cite_embedding = np.load(FEATURES_DIR.joinpath(\n",
        "    f\"cite_embedding_{EXP_NAME}.npy\"))\n",
        "cite_embedding.shape\n"
      ]
    },
    {
      "cell_type": "code",
      "execution_count": null,
      "metadata": {
        "id": "nU4OSHzSleGg"
      },
      "outputs": [],
      "source": [
        "class FaissKNeighbors:\n",
        "    def __init__(self, model_name: str, index_name: str, k: int = 20) -> None:\n",
        "        self.index = None\n",
        "        self.d = None\n",
        "        self.k = k\n",
        "        self.model_name = model_name\n",
        "        self.index_name = str(INDEX_DIR.joinpath(f\"{index_name}.index\"))\n",
        "\n",
        "    def fit(self, X: np.array) -> None:\n",
        "        X = X.copy(order=\"C\")\n",
        "        self.d = X.shape[1]\n",
        "        # distance: cosine similarity\n",
        "        self.index = faiss.IndexFlatIP(self.d)\n",
        "        self.index.add(X.astype(np.float32))\n",
        "\n",
        "    def save_index(self) -> None:\n",
        "        faiss.write_index(self.index, self.index_name)\n",
        "        print(f\"{self.index_name} saved.\")\n",
        "\n",
        "    def read_index(self) -> None:\n",
        "        self.index = faiss.read_index(self.index_name)\n",
        "        self.d = self.index.d\n",
        "        print(f\"{self.index_name} read.\")\n",
        "\n",
        "    def predict(self, X: np.array) -> typing.Tuple:\n",
        "        X = X.copy(order=\"C\")\n",
        "        X = np.reshape(X, (-1, self.d))\n",
        "        distances, indices = self.index.search(X.astype(np.float32), k=self.k)\n",
        "        if X.shape[0] == 1:\n",
        "            return distances[0], indices[0]\n",
        "        else:\n",
        "            return distances, indices\n"
      ]
    },
    {
      "cell_type": "code",
      "execution_count": null,
      "metadata": {
        "colab": {
          "base_uri": "https://localhost:8080/"
        },
        "id": "VN5OvVNTn44I",
        "outputId": "e8351815-0c05-410a-bd21-324f06afc33c"
      },
      "outputs": [],
      "source": [
        "knn = FaissKNeighbors(model_name=CFG.model_name, index_name=EXP_NAME, k=20)\n",
        "knn.fit(cite_embedding)\n",
        "knn.save_index()\n"
      ]
    },
    {
      "cell_type": "code",
      "execution_count": null,
      "metadata": {
        "colab": {
          "base_uri": "https://localhost:8080/",
          "height": 206
        },
        "id": "VmVnG4Se8Cy1",
        "outputId": "a14d88ed-ed33-4b9e-a850-71dd10a52fac"
      },
      "outputs": [],
      "source": [
        "df_cite.head()\n"
      ]
    },
    {
      "cell_type": "code",
      "execution_count": null,
      "metadata": {
        "id": "U2Y0CTo67kO2"
      },
      "outputs": [],
      "source": [
        "idx2cite_gid = dict(zip(df_cite.index, df_cite[\"cite_gid\"]))\n"
      ]
    },
    {
      "cell_type": "markdown",
      "metadata": {
        "id": "tT7cpgrSlFtU"
      },
      "source": [
        "## クエリ画像の検索"
      ]
    },
    {
      "cell_type": "code",
      "execution_count": null,
      "metadata": {
        "colab": {
          "base_uri": "https://localhost:8080/",
          "height": 49,
          "referenced_widgets": [
            "bfa0448531524bd2b576bd7796760a81",
            "a67017356b314c028927ba07cc5f5e05",
            "13ce0d0740d84d3cb5c2ae93352e101c",
            "ad3e276bf5d24ae69fd9a51b55169d7f",
            "9073d3765d454201ac2f75fe523eaf3c",
            "b46858914a354823b672066bae714b5d",
            "ca43ffde1834469ba24b43986b2bcaee",
            "24565c6bc06046928d8eea83c5d38a98",
            "cac2f6b33f5949c7853ab58918905594",
            "15f027d3ad2248daa3cfc53cb7ac03ab",
            "5d9836952c7b4e94a18c0c14ba4f3c50"
          ]
        },
        "id": "fNcniSJqR2eZ",
        "outputId": "dd00cb05-1b84-4210-b70b-88052025b36a"
      },
      "outputs": [],
      "source": [
        "test_dataset = SakeDataset(\n",
        "    image_filepaths=df_test[\"path\"].to_list(),\n",
        "    transform=get_transforms()\n",
        ")\n",
        "test_loader = DataLoader(\n",
        "    test_dataset,\n",
        "    batch_size=CFG.batch_size,\n",
        "    shuffle=False,\n",
        "    num_workers=CFG.n_workers,\n",
        "    pin_memory=True\n",
        ")\n",
        "\n",
        "query_embedding = infer(test_loader, model)\n",
        "np.save(FEATURES_DIR.joinpath(\n",
        "    f\"query_embedding_{EXP_NAME}.npy\"), query_embedding)\n"
      ]
    },
    {
      "cell_type": "code",
      "execution_count": null,
      "metadata": {
        "colab": {
          "base_uri": "https://localhost:8080/"
        },
        "id": "U4hz36N_pLqN",
        "outputId": "0678d0f5-6d7b-47a0-8cb2-8edd478211c3"
      },
      "outputs": [],
      "source": [
        "query_embedding = np.load(FEATURES_DIR.joinpath(\n",
        "    f\"query_embedding_{EXP_NAME}.npy\"))\n",
        "query_embedding.shape\n"
      ]
    },
    {
      "cell_type": "code",
      "execution_count": null,
      "metadata": {
        "colab": {
          "base_uri": "https://localhost:8080/",
          "height": 49,
          "referenced_widgets": [
            "60ed2ca13a5a46688c0a19835c2da2f5",
            "c178ba60c99845e29736979785697baf",
            "45835665f2fe40fbb9dbba5e561d46c6",
            "2c90a9f3e4bc401aab2a8f02dec1cc77",
            "2daa27433795417e85093c5c9bf73a1c",
            "b7cc1c26b5704fb9981215c01add4698",
            "9ab053b95e664475924c094b4c16eabe",
            "4e40f87adf094cdfbcd6bd4cba9589fb",
            "3a6658a817ef4bc1802a422f8d034feb",
            "20b0a87f404341c1bcdda9714e523f2d",
            "d8474397d18042948bebf84df1b7f9de"
          ]
        },
        "id": "Uw3ZmEWmr4BE",
        "outputId": "ddcc6520-815a-4e2e-f1b3-6ca32aba9e60"
      },
      "outputs": [],
      "source": [
        "cite_gids = []\n",
        "for _query_embeding in tqdm(query_embedding):\n",
        "    distance, pred = knn.predict(_query_embeding)\n",
        "    _cite_gids = [str(idx2cite_gid[p]) for p in pred]\n",
        "    cite_gids.append(\" \".join(_cite_gids))\n",
        "df_test[\"cite_gid\"] = cite_gids\n",
        "df_test[[\"gid\", \"cite_gid\"]].to_csv(OUT_DIR.joinpath(\n",
        "    f\"submission_{EXP_NAME}.csv\"), index=False)\n"
      ]
    },
    {
      "cell_type": "code",
      "execution_count": null,
      "metadata": {
        "cellView": "form",
        "id": "LQaNMnn0UFT7"
      },
      "outputs": [],
      "source": [
        "# @title\n",
        "def view_result_bygid(df_test: pd.DataFrame, gid: int) -> None:\n",
        "    pred_gids = df_test.loc[df_test[\"gid\"] == gid, \"cite_gid\"].values[0]\n",
        "    pred_gids = pred_gids.split()\n",
        "\n",
        "    query_path = df_test.loc[df_test[\"gid\"] == gid, \"path\"].values[0]\n",
        "    paths = []\n",
        "    paths.append(query_path)\n",
        "    cite_paths = [str(CITE_IMG_DIR.joinpath(path + \".jpg\"))\n",
        "                  for path in pred_gids]\n",
        "    paths.extend(cite_paths)\n",
        "\n",
        "    figs, axs = plt.subplots(nrows=7, ncols=3, figsize=(10, 20))\n",
        "    for i, path in enumerate(paths):\n",
        "        img = Image.open(path)\n",
        "        i_row = int(i / 3)\n",
        "        i_col = i % 3\n",
        "        axs[i_row, i_col].imshow(img)\n",
        "        gid = path.split(\"/\")[-1].replace(\".jpg\", \"\")\n",
        "        if i == 0:\n",
        "            title = f\"query data gid:{gid}\"\n",
        "            color = \"red\"\n",
        "        else:\n",
        "            title = f\"rank: {i}, cite_gid:{gid}\"\n",
        "            color = \"black\"\n",
        "\n",
        "        axs[i_row, i_col].set_title(title, color=color)\n",
        "        axs[i_row, i_col].grid(False)\n",
        "        axs[i_row, i_col].axis(\"off\")\n",
        "    plt.show()\n"
      ]
    },
    {
      "cell_type": "markdown",
      "metadata": {
        "id": "BwBNUlkcZDPr"
      },
      "source": [
        "## 検索結果の確認"
      ]
    },
    {
      "cell_type": "code",
      "execution_count": null,
      "metadata": {
        "colab": {
          "base_uri": "https://localhost:8080/",
          "height": 206
        },
        "id": "btryqMA4OlUQ",
        "outputId": "f14bf4fa-b027-4ac0-8003-b9df1c64b052"
      },
      "outputs": [],
      "source": [
        "df_test.head()\n"
      ]
    },
    {
      "cell_type": "code",
      "execution_count": null,
      "metadata": {
        "colab": {
          "base_uri": "https://localhost:8080/",
          "height": 1000
        },
        "id": "MgWd6BMcvFf2",
        "outputId": "9d4b467f-30c7-45de-e115-8b9414f0399a"
      },
      "outputs": [],
      "source": [
        "view_result_bygid(df_test, gid=200108162)\n"
      ]
    },
    {
      "cell_type": "markdown",
      "metadata": {
        "id": "Pr5wDblaxbS0"
      },
      "source": [
        "# EOF"
      ]
    }
  ],
  "metadata": {
    "accelerator": "GPU",
    "colab": {
      "gpuType": "T4",
      "provenance": [],
      "toc_visible": true
    },
    "kernelspec": {
      "display_name": "Python 3",
      "name": "python3"
    },
    "language_info": {
      "codemirror_mode": {
        "name": "ipython",
        "version": 3
      },
      "file_extension": ".py",
      "mimetype": "text/x-python",
      "name": "python",
      "nbconvert_exporter": "python",
      "pygments_lexer": "ipython3",
      "version": "3.10.12"
    },
    "widgets": {
      "application/vnd.jupyter.widget-state+json": {
        "06dfb74d16ed453bb93ea4be82210c1f": {
          "model_module": "@jupyter-widgets/controls",
          "model_module_version": "1.5.0",
          "model_name": "HBoxModel",
          "state": {
            "_dom_classes": [],
            "_model_module": "@jupyter-widgets/controls",
            "_model_module_version": "1.5.0",
            "_model_name": "HBoxModel",
            "_view_count": null,
            "_view_module": "@jupyter-widgets/controls",
            "_view_module_version": "1.5.0",
            "_view_name": "HBoxView",
            "box_style": "",
            "children": [
              "IPY_MODEL_e1da2c6f821246238d459ea95b704e3b",
              "IPY_MODEL_34540f0572ec44bea0887b50833e199f",
              "IPY_MODEL_e88879c17444413a9fd6bd6c465d83b7"
            ],
            "layout": "IPY_MODEL_7a7b2c2720fb41a58e90837c29bc8691"
          }
        },
        "0b341e997b2c49de9879d879e86c311d": {
          "model_module": "@jupyter-widgets/base",
          "model_module_version": "1.2.0",
          "model_name": "LayoutModel",
          "state": {
            "_model_module": "@jupyter-widgets/base",
            "_model_module_version": "1.2.0",
            "_model_name": "LayoutModel",
            "_view_count": null,
            "_view_module": "@jupyter-widgets/base",
            "_view_module_version": "1.2.0",
            "_view_name": "LayoutView",
            "align_content": null,
            "align_items": null,
            "align_self": null,
            "border": null,
            "bottom": null,
            "display": null,
            "flex": null,
            "flex_flow": null,
            "grid_area": null,
            "grid_auto_columns": null,
            "grid_auto_flow": null,
            "grid_auto_rows": null,
            "grid_column": null,
            "grid_gap": null,
            "grid_row": null,
            "grid_template_areas": null,
            "grid_template_columns": null,
            "grid_template_rows": null,
            "height": null,
            "justify_content": null,
            "justify_items": null,
            "left": null,
            "margin": null,
            "max_height": null,
            "max_width": null,
            "min_height": null,
            "min_width": null,
            "object_fit": null,
            "object_position": null,
            "order": null,
            "overflow": null,
            "overflow_x": null,
            "overflow_y": null,
            "padding": null,
            "right": null,
            "top": null,
            "visibility": null,
            "width": null
          }
        },
        "0ef3413fdcc84491aa93fbcc78ca2501": {
          "model_module": "@jupyter-widgets/controls",
          "model_module_version": "1.5.0",
          "model_name": "FloatProgressModel",
          "state": {
            "_dom_classes": [],
            "_model_module": "@jupyter-widgets/controls",
            "_model_module_version": "1.5.0",
            "_model_name": "FloatProgressModel",
            "_view_count": null,
            "_view_module": "@jupyter-widgets/controls",
            "_view_module_version": "1.5.0",
            "_view_name": "ProgressView",
            "bar_style": "success",
            "description": "",
            "description_tooltip": null,
            "layout": "IPY_MODEL_5576241199af4c56b1b0884ce922b2e8",
            "max": 354400320,
            "min": 0,
            "orientation": "horizontal",
            "style": "IPY_MODEL_97eaef1a85ad411aaea84eb2267b0a13",
            "value": 354400320
          }
        },
        "13b60a35c7eb485aae3d4b2e380e4845": {
          "model_module": "@jupyter-widgets/controls",
          "model_module_version": "1.5.0",
          "model_name": "DescriptionStyleModel",
          "state": {
            "_model_module": "@jupyter-widgets/controls",
            "_model_module_version": "1.5.0",
            "_model_name": "DescriptionStyleModel",
            "_view_count": null,
            "_view_module": "@jupyter-widgets/base",
            "_view_module_version": "1.2.0",
            "_view_name": "StyleView",
            "description_width": ""
          }
        },
        "13ce0d0740d84d3cb5c2ae93352e101c": {
          "model_module": "@jupyter-widgets/controls",
          "model_module_version": "1.5.0",
          "model_name": "FloatProgressModel",
          "state": {
            "_dom_classes": [],
            "_model_module": "@jupyter-widgets/controls",
            "_model_module_version": "1.5.0",
            "_model_name": "FloatProgressModel",
            "_view_count": null,
            "_view_module": "@jupyter-widgets/controls",
            "_view_module_version": "1.5.0",
            "_view_name": "ProgressView",
            "bar_style": "success",
            "description": "",
            "description_tooltip": null,
            "layout": "IPY_MODEL_24565c6bc06046928d8eea83c5d38a98",
            "max": 23,
            "min": 0,
            "orientation": "horizontal",
            "style": "IPY_MODEL_cac2f6b33f5949c7853ab58918905594",
            "value": 23
          }
        },
        "15f027d3ad2248daa3cfc53cb7ac03ab": {
          "model_module": "@jupyter-widgets/base",
          "model_module_version": "1.2.0",
          "model_name": "LayoutModel",
          "state": {
            "_model_module": "@jupyter-widgets/base",
            "_model_module_version": "1.2.0",
            "_model_name": "LayoutModel",
            "_view_count": null,
            "_view_module": "@jupyter-widgets/base",
            "_view_module_version": "1.2.0",
            "_view_name": "LayoutView",
            "align_content": null,
            "align_items": null,
            "align_self": null,
            "border": null,
            "bottom": null,
            "display": null,
            "flex": null,
            "flex_flow": null,
            "grid_area": null,
            "grid_auto_columns": null,
            "grid_auto_flow": null,
            "grid_auto_rows": null,
            "grid_column": null,
            "grid_gap": null,
            "grid_row": null,
            "grid_template_areas": null,
            "grid_template_columns": null,
            "grid_template_rows": null,
            "height": null,
            "justify_content": null,
            "justify_items": null,
            "left": null,
            "margin": null,
            "max_height": null,
            "max_width": null,
            "min_height": null,
            "min_width": null,
            "object_fit": null,
            "object_position": null,
            "order": null,
            "overflow": null,
            "overflow_x": null,
            "overflow_y": null,
            "padding": null,
            "right": null,
            "top": null,
            "visibility": null,
            "width": null
          }
        },
        "20b0a87f404341c1bcdda9714e523f2d": {
          "model_module": "@jupyter-widgets/base",
          "model_module_version": "1.2.0",
          "model_name": "LayoutModel",
          "state": {
            "_model_module": "@jupyter-widgets/base",
            "_model_module_version": "1.2.0",
            "_model_name": "LayoutModel",
            "_view_count": null,
            "_view_module": "@jupyter-widgets/base",
            "_view_module_version": "1.2.0",
            "_view_name": "LayoutView",
            "align_content": null,
            "align_items": null,
            "align_self": null,
            "border": null,
            "bottom": null,
            "display": null,
            "flex": null,
            "flex_flow": null,
            "grid_area": null,
            "grid_auto_columns": null,
            "grid_auto_flow": null,
            "grid_auto_rows": null,
            "grid_column": null,
            "grid_gap": null,
            "grid_row": null,
            "grid_template_areas": null,
            "grid_template_columns": null,
            "grid_template_rows": null,
            "height": null,
            "justify_content": null,
            "justify_items": null,
            "left": null,
            "margin": null,
            "max_height": null,
            "max_width": null,
            "min_height": null,
            "min_width": null,
            "object_fit": null,
            "object_position": null,
            "order": null,
            "overflow": null,
            "overflow_x": null,
            "overflow_y": null,
            "padding": null,
            "right": null,
            "top": null,
            "visibility": null,
            "width": null
          }
        },
        "24565c6bc06046928d8eea83c5d38a98": {
          "model_module": "@jupyter-widgets/base",
          "model_module_version": "1.2.0",
          "model_name": "LayoutModel",
          "state": {
            "_model_module": "@jupyter-widgets/base",
            "_model_module_version": "1.2.0",
            "_model_name": "LayoutModel",
            "_view_count": null,
            "_view_module": "@jupyter-widgets/base",
            "_view_module_version": "1.2.0",
            "_view_name": "LayoutView",
            "align_content": null,
            "align_items": null,
            "align_self": null,
            "border": null,
            "bottom": null,
            "display": null,
            "flex": null,
            "flex_flow": null,
            "grid_area": null,
            "grid_auto_columns": null,
            "grid_auto_flow": null,
            "grid_auto_rows": null,
            "grid_column": null,
            "grid_gap": null,
            "grid_row": null,
            "grid_template_areas": null,
            "grid_template_columns": null,
            "grid_template_rows": null,
            "height": null,
            "justify_content": null,
            "justify_items": null,
            "left": null,
            "margin": null,
            "max_height": null,
            "max_width": null,
            "min_height": null,
            "min_width": null,
            "object_fit": null,
            "object_position": null,
            "order": null,
            "overflow": null,
            "overflow_x": null,
            "overflow_y": null,
            "padding": null,
            "right": null,
            "top": null,
            "visibility": null,
            "width": null
          }
        },
        "2c421aaac0b645cc80ad0245a7f4d2d2": {
          "model_module": "@jupyter-widgets/controls",
          "model_module_version": "1.5.0",
          "model_name": "HBoxModel",
          "state": {
            "_dom_classes": [],
            "_model_module": "@jupyter-widgets/controls",
            "_model_module_version": "1.5.0",
            "_model_name": "HBoxModel",
            "_view_count": null,
            "_view_module": "@jupyter-widgets/controls",
            "_view_module_version": "1.5.0",
            "_view_name": "HBoxView",
            "box_style": "",
            "children": [
              "IPY_MODEL_9f0c0bf3aefd4d86945e87b308cff594",
              "IPY_MODEL_0ef3413fdcc84491aa93fbcc78ca2501",
              "IPY_MODEL_474572f135714fe4a13cf1c2995b5df5"
            ],
            "layout": "IPY_MODEL_c46d87699a374875b01c3ea4a40d0b9d"
          }
        },
        "2c90a9f3e4bc401aab2a8f02dec1cc77": {
          "model_module": "@jupyter-widgets/controls",
          "model_module_version": "1.5.0",
          "model_name": "HTMLModel",
          "state": {
            "_dom_classes": [],
            "_model_module": "@jupyter-widgets/controls",
            "_model_module_version": "1.5.0",
            "_model_name": "HTMLModel",
            "_view_count": null,
            "_view_module": "@jupyter-widgets/controls",
            "_view_module_version": "1.5.0",
            "_view_name": "HTMLView",
            "description": "",
            "description_tooltip": null,
            "layout": "IPY_MODEL_20b0a87f404341c1bcdda9714e523f2d",
            "placeholder": "​",
            "style": "IPY_MODEL_d8474397d18042948bebf84df1b7f9de",
            "value": " 2942/2942 [00:57&lt;00:00, 57.18it/s]"
          }
        },
        "2daa27433795417e85093c5c9bf73a1c": {
          "model_module": "@jupyter-widgets/base",
          "model_module_version": "1.2.0",
          "model_name": "LayoutModel",
          "state": {
            "_model_module": "@jupyter-widgets/base",
            "_model_module_version": "1.2.0",
            "_model_name": "LayoutModel",
            "_view_count": null,
            "_view_module": "@jupyter-widgets/base",
            "_view_module_version": "1.2.0",
            "_view_name": "LayoutView",
            "align_content": null,
            "align_items": null,
            "align_self": null,
            "border": null,
            "bottom": null,
            "display": null,
            "flex": null,
            "flex_flow": null,
            "grid_area": null,
            "grid_auto_columns": null,
            "grid_auto_flow": null,
            "grid_auto_rows": null,
            "grid_column": null,
            "grid_gap": null,
            "grid_row": null,
            "grid_template_areas": null,
            "grid_template_columns": null,
            "grid_template_rows": null,
            "height": null,
            "justify_content": null,
            "justify_items": null,
            "left": null,
            "margin": null,
            "max_height": null,
            "max_width": null,
            "min_height": null,
            "min_width": null,
            "object_fit": null,
            "object_position": null,
            "order": null,
            "overflow": null,
            "overflow_x": null,
            "overflow_y": null,
            "padding": null,
            "right": null,
            "top": null,
            "visibility": null,
            "width": null
          }
        },
        "34540f0572ec44bea0887b50833e199f": {
          "model_module": "@jupyter-widgets/controls",
          "model_module_version": "1.5.0",
          "model_name": "FloatProgressModel",
          "state": {
            "_dom_classes": [],
            "_model_module": "@jupyter-widgets/controls",
            "_model_module_version": "1.5.0",
            "_model_name": "FloatProgressModel",
            "_view_count": null,
            "_view_module": "@jupyter-widgets/controls",
            "_view_module_version": "1.5.0",
            "_view_name": "ProgressView",
            "bar_style": "success",
            "description": "",
            "description_tooltip": null,
            "layout": "IPY_MODEL_b14c116d731e4e4abcf7968996cc424a",
            "max": 856,
            "min": 0,
            "orientation": "horizontal",
            "style": "IPY_MODEL_970989b197f64b3c9788d426de5e0dd4",
            "value": 856
          }
        },
        "3a6658a817ef4bc1802a422f8d034feb": {
          "model_module": "@jupyter-widgets/controls",
          "model_module_version": "1.5.0",
          "model_name": "ProgressStyleModel",
          "state": {
            "_model_module": "@jupyter-widgets/controls",
            "_model_module_version": "1.5.0",
            "_model_name": "ProgressStyleModel",
            "_view_count": null,
            "_view_module": "@jupyter-widgets/base",
            "_view_module_version": "1.2.0",
            "_view_name": "StyleView",
            "bar_color": null,
            "description_width": ""
          }
        },
        "45835665f2fe40fbb9dbba5e561d46c6": {
          "model_module": "@jupyter-widgets/controls",
          "model_module_version": "1.5.0",
          "model_name": "FloatProgressModel",
          "state": {
            "_dom_classes": [],
            "_model_module": "@jupyter-widgets/controls",
            "_model_module_version": "1.5.0",
            "_model_name": "FloatProgressModel",
            "_view_count": null,
            "_view_module": "@jupyter-widgets/controls",
            "_view_module_version": "1.5.0",
            "_view_name": "ProgressView",
            "bar_style": "success",
            "description": "",
            "description_tooltip": null,
            "layout": "IPY_MODEL_4e40f87adf094cdfbcd6bd4cba9589fb",
            "max": 2942,
            "min": 0,
            "orientation": "horizontal",
            "style": "IPY_MODEL_3a6658a817ef4bc1802a422f8d034feb",
            "value": 2942
          }
        },
        "474572f135714fe4a13cf1c2995b5df5": {
          "model_module": "@jupyter-widgets/controls",
          "model_module_version": "1.5.0",
          "model_name": "HTMLModel",
          "state": {
            "_dom_classes": [],
            "_model_module": "@jupyter-widgets/controls",
            "_model_module_version": "1.5.0",
            "_model_name": "HTMLModel",
            "_view_count": null,
            "_view_module": "@jupyter-widgets/controls",
            "_view_module_version": "1.5.0",
            "_view_name": "HTMLView",
            "description": "",
            "description_tooltip": null,
            "layout": "IPY_MODEL_b46ac524e12d4743be788a5d0ddf6e89",
            "placeholder": "​",
            "style": "IPY_MODEL_13b60a35c7eb485aae3d4b2e380e4845",
            "value": " 354M/354M [00:02&lt;00:00, 146MB/s]"
          }
        },
        "4e40f87adf094cdfbcd6bd4cba9589fb": {
          "model_module": "@jupyter-widgets/base",
          "model_module_version": "1.2.0",
          "model_name": "LayoutModel",
          "state": {
            "_model_module": "@jupyter-widgets/base",
            "_model_module_version": "1.2.0",
            "_model_name": "LayoutModel",
            "_view_count": null,
            "_view_module": "@jupyter-widgets/base",
            "_view_module_version": "1.2.0",
            "_view_name": "LayoutView",
            "align_content": null,
            "align_items": null,
            "align_self": null,
            "border": null,
            "bottom": null,
            "display": null,
            "flex": null,
            "flex_flow": null,
            "grid_area": null,
            "grid_auto_columns": null,
            "grid_auto_flow": null,
            "grid_auto_rows": null,
            "grid_column": null,
            "grid_gap": null,
            "grid_row": null,
            "grid_template_areas": null,
            "grid_template_columns": null,
            "grid_template_rows": null,
            "height": null,
            "justify_content": null,
            "justify_items": null,
            "left": null,
            "margin": null,
            "max_height": null,
            "max_width": null,
            "min_height": null,
            "min_width": null,
            "object_fit": null,
            "object_position": null,
            "order": null,
            "overflow": null,
            "overflow_x": null,
            "overflow_y": null,
            "padding": null,
            "right": null,
            "top": null,
            "visibility": null,
            "width": null
          }
        },
        "5576241199af4c56b1b0884ce922b2e8": {
          "model_module": "@jupyter-widgets/base",
          "model_module_version": "1.2.0",
          "model_name": "LayoutModel",
          "state": {
            "_model_module": "@jupyter-widgets/base",
            "_model_module_version": "1.2.0",
            "_model_name": "LayoutModel",
            "_view_count": null,
            "_view_module": "@jupyter-widgets/base",
            "_view_module_version": "1.2.0",
            "_view_name": "LayoutView",
            "align_content": null,
            "align_items": null,
            "align_self": null,
            "border": null,
            "bottom": null,
            "display": null,
            "flex": null,
            "flex_flow": null,
            "grid_area": null,
            "grid_auto_columns": null,
            "grid_auto_flow": null,
            "grid_auto_rows": null,
            "grid_column": null,
            "grid_gap": null,
            "grid_row": null,
            "grid_template_areas": null,
            "grid_template_columns": null,
            "grid_template_rows": null,
            "height": null,
            "justify_content": null,
            "justify_items": null,
            "left": null,
            "margin": null,
            "max_height": null,
            "max_width": null,
            "min_height": null,
            "min_width": null,
            "object_fit": null,
            "object_position": null,
            "order": null,
            "overflow": null,
            "overflow_x": null,
            "overflow_y": null,
            "padding": null,
            "right": null,
            "top": null,
            "visibility": null,
            "width": null
          }
        },
        "5d9836952c7b4e94a18c0c14ba4f3c50": {
          "model_module": "@jupyter-widgets/controls",
          "model_module_version": "1.5.0",
          "model_name": "DescriptionStyleModel",
          "state": {
            "_model_module": "@jupyter-widgets/controls",
            "_model_module_version": "1.5.0",
            "_model_name": "DescriptionStyleModel",
            "_view_count": null,
            "_view_module": "@jupyter-widgets/base",
            "_view_module_version": "1.2.0",
            "_view_name": "StyleView",
            "description_width": ""
          }
        },
        "60ed2ca13a5a46688c0a19835c2da2f5": {
          "model_module": "@jupyter-widgets/controls",
          "model_module_version": "1.5.0",
          "model_name": "HBoxModel",
          "state": {
            "_dom_classes": [],
            "_model_module": "@jupyter-widgets/controls",
            "_model_module_version": "1.5.0",
            "_model_name": "HBoxModel",
            "_view_count": null,
            "_view_module": "@jupyter-widgets/controls",
            "_view_module_version": "1.5.0",
            "_view_name": "HBoxView",
            "box_style": "",
            "children": [
              "IPY_MODEL_c178ba60c99845e29736979785697baf",
              "IPY_MODEL_45835665f2fe40fbb9dbba5e561d46c6",
              "IPY_MODEL_2c90a9f3e4bc401aab2a8f02dec1cc77"
            ],
            "layout": "IPY_MODEL_2daa27433795417e85093c5c9bf73a1c"
          }
        },
        "7a7b2c2720fb41a58e90837c29bc8691": {
          "model_module": "@jupyter-widgets/base",
          "model_module_version": "1.2.0",
          "model_name": "LayoutModel",
          "state": {
            "_model_module": "@jupyter-widgets/base",
            "_model_module_version": "1.2.0",
            "_model_name": "LayoutModel",
            "_view_count": null,
            "_view_module": "@jupyter-widgets/base",
            "_view_module_version": "1.2.0",
            "_view_name": "LayoutView",
            "align_content": null,
            "align_items": null,
            "align_self": null,
            "border": null,
            "bottom": null,
            "display": null,
            "flex": null,
            "flex_flow": null,
            "grid_area": null,
            "grid_auto_columns": null,
            "grid_auto_flow": null,
            "grid_auto_rows": null,
            "grid_column": null,
            "grid_gap": null,
            "grid_row": null,
            "grid_template_areas": null,
            "grid_template_columns": null,
            "grid_template_rows": null,
            "height": null,
            "justify_content": null,
            "justify_items": null,
            "left": null,
            "margin": null,
            "max_height": null,
            "max_width": null,
            "min_height": null,
            "min_width": null,
            "object_fit": null,
            "object_position": null,
            "order": null,
            "overflow": null,
            "overflow_x": null,
            "overflow_y": null,
            "padding": null,
            "right": null,
            "top": null,
            "visibility": null,
            "width": null
          }
        },
        "9073d3765d454201ac2f75fe523eaf3c": {
          "model_module": "@jupyter-widgets/base",
          "model_module_version": "1.2.0",
          "model_name": "LayoutModel",
          "state": {
            "_model_module": "@jupyter-widgets/base",
            "_model_module_version": "1.2.0",
            "_model_name": "LayoutModel",
            "_view_count": null,
            "_view_module": "@jupyter-widgets/base",
            "_view_module_version": "1.2.0",
            "_view_name": "LayoutView",
            "align_content": null,
            "align_items": null,
            "align_self": null,
            "border": null,
            "bottom": null,
            "display": null,
            "flex": null,
            "flex_flow": null,
            "grid_area": null,
            "grid_auto_columns": null,
            "grid_auto_flow": null,
            "grid_auto_rows": null,
            "grid_column": null,
            "grid_gap": null,
            "grid_row": null,
            "grid_template_areas": null,
            "grid_template_columns": null,
            "grid_template_rows": null,
            "height": null,
            "justify_content": null,
            "justify_items": null,
            "left": null,
            "margin": null,
            "max_height": null,
            "max_width": null,
            "min_height": null,
            "min_width": null,
            "object_fit": null,
            "object_position": null,
            "order": null,
            "overflow": null,
            "overflow_x": null,
            "overflow_y": null,
            "padding": null,
            "right": null,
            "top": null,
            "visibility": null,
            "width": null
          }
        },
        "95d79e01de4e40e6808e9cf4459985d0": {
          "model_module": "@jupyter-widgets/controls",
          "model_module_version": "1.5.0",
          "model_name": "DescriptionStyleModel",
          "state": {
            "_model_module": "@jupyter-widgets/controls",
            "_model_module_version": "1.5.0",
            "_model_name": "DescriptionStyleModel",
            "_view_count": null,
            "_view_module": "@jupyter-widgets/base",
            "_view_module_version": "1.2.0",
            "_view_name": "StyleView",
            "description_width": ""
          }
        },
        "970989b197f64b3c9788d426de5e0dd4": {
          "model_module": "@jupyter-widgets/controls",
          "model_module_version": "1.5.0",
          "model_name": "ProgressStyleModel",
          "state": {
            "_model_module": "@jupyter-widgets/controls",
            "_model_module_version": "1.5.0",
            "_model_name": "ProgressStyleModel",
            "_view_count": null,
            "_view_module": "@jupyter-widgets/base",
            "_view_module_version": "1.2.0",
            "_view_name": "StyleView",
            "bar_color": null,
            "description_width": ""
          }
        },
        "97eaef1a85ad411aaea84eb2267b0a13": {
          "model_module": "@jupyter-widgets/controls",
          "model_module_version": "1.5.0",
          "model_name": "ProgressStyleModel",
          "state": {
            "_model_module": "@jupyter-widgets/controls",
            "_model_module_version": "1.5.0",
            "_model_name": "ProgressStyleModel",
            "_view_count": null,
            "_view_module": "@jupyter-widgets/base",
            "_view_module_version": "1.2.0",
            "_view_name": "StyleView",
            "bar_color": null,
            "description_width": ""
          }
        },
        "9ab053b95e664475924c094b4c16eabe": {
          "model_module": "@jupyter-widgets/controls",
          "model_module_version": "1.5.0",
          "model_name": "DescriptionStyleModel",
          "state": {
            "_model_module": "@jupyter-widgets/controls",
            "_model_module_version": "1.5.0",
            "_model_name": "DescriptionStyleModel",
            "_view_count": null,
            "_view_module": "@jupyter-widgets/base",
            "_view_module_version": "1.2.0",
            "_view_name": "StyleView",
            "description_width": ""
          }
        },
        "9cb05565d13f47cd8a0c3f48485cbe56": {
          "model_module": "@jupyter-widgets/base",
          "model_module_version": "1.2.0",
          "model_name": "LayoutModel",
          "state": {
            "_model_module": "@jupyter-widgets/base",
            "_model_module_version": "1.2.0",
            "_model_name": "LayoutModel",
            "_view_count": null,
            "_view_module": "@jupyter-widgets/base",
            "_view_module_version": "1.2.0",
            "_view_name": "LayoutView",
            "align_content": null,
            "align_items": null,
            "align_self": null,
            "border": null,
            "bottom": null,
            "display": null,
            "flex": null,
            "flex_flow": null,
            "grid_area": null,
            "grid_auto_columns": null,
            "grid_auto_flow": null,
            "grid_auto_rows": null,
            "grid_column": null,
            "grid_gap": null,
            "grid_row": null,
            "grid_template_areas": null,
            "grid_template_columns": null,
            "grid_template_rows": null,
            "height": null,
            "justify_content": null,
            "justify_items": null,
            "left": null,
            "margin": null,
            "max_height": null,
            "max_width": null,
            "min_height": null,
            "min_width": null,
            "object_fit": null,
            "object_position": null,
            "order": null,
            "overflow": null,
            "overflow_x": null,
            "overflow_y": null,
            "padding": null,
            "right": null,
            "top": null,
            "visibility": null,
            "width": null
          }
        },
        "9dc95f579d404cd3acb8152c947ae835": {
          "model_module": "@jupyter-widgets/controls",
          "model_module_version": "1.5.0",
          "model_name": "DescriptionStyleModel",
          "state": {
            "_model_module": "@jupyter-widgets/controls",
            "_model_module_version": "1.5.0",
            "_model_name": "DescriptionStyleModel",
            "_view_count": null,
            "_view_module": "@jupyter-widgets/base",
            "_view_module_version": "1.2.0",
            "_view_name": "StyleView",
            "description_width": ""
          }
        },
        "9f0c0bf3aefd4d86945e87b308cff594": {
          "model_module": "@jupyter-widgets/controls",
          "model_module_version": "1.5.0",
          "model_name": "HTMLModel",
          "state": {
            "_dom_classes": [],
            "_model_module": "@jupyter-widgets/controls",
            "_model_module_version": "1.5.0",
            "_model_name": "HTMLModel",
            "_view_count": null,
            "_view_module": "@jupyter-widgets/controls",
            "_view_module_version": "1.5.0",
            "_view_name": "HTMLView",
            "description": "",
            "description_tooltip": null,
            "layout": "IPY_MODEL_dfba460570174baa9eb153484b08b75a",
            "placeholder": "​",
            "style": "IPY_MODEL_95d79e01de4e40e6808e9cf4459985d0",
            "value": "Downloading model.safetensors: 100%"
          }
        },
        "a67017356b314c028927ba07cc5f5e05": {
          "model_module": "@jupyter-widgets/controls",
          "model_module_version": "1.5.0",
          "model_name": "HTMLModel",
          "state": {
            "_dom_classes": [],
            "_model_module": "@jupyter-widgets/controls",
            "_model_module_version": "1.5.0",
            "_model_name": "HTMLModel",
            "_view_count": null,
            "_view_module": "@jupyter-widgets/controls",
            "_view_module_version": "1.5.0",
            "_view_name": "HTMLView",
            "description": "",
            "description_tooltip": null,
            "layout": "IPY_MODEL_b46858914a354823b672066bae714b5d",
            "placeholder": "​",
            "style": "IPY_MODEL_ca43ffde1834469ba24b43986b2bcaee",
            "value": "100%"
          }
        },
        "ad3e276bf5d24ae69fd9a51b55169d7f": {
          "model_module": "@jupyter-widgets/controls",
          "model_module_version": "1.5.0",
          "model_name": "HTMLModel",
          "state": {
            "_dom_classes": [],
            "_model_module": "@jupyter-widgets/controls",
            "_model_module_version": "1.5.0",
            "_model_name": "HTMLModel",
            "_view_count": null,
            "_view_module": "@jupyter-widgets/controls",
            "_view_module_version": "1.5.0",
            "_view_name": "HTMLView",
            "description": "",
            "description_tooltip": null,
            "layout": "IPY_MODEL_15f027d3ad2248daa3cfc53cb7ac03ab",
            "placeholder": "​",
            "style": "IPY_MODEL_5d9836952c7b4e94a18c0c14ba4f3c50",
            "value": " 23/23 [01:32&lt;00:00,  4.03s/it]"
          }
        },
        "b14c116d731e4e4abcf7968996cc424a": {
          "model_module": "@jupyter-widgets/base",
          "model_module_version": "1.2.0",
          "model_name": "LayoutModel",
          "state": {
            "_model_module": "@jupyter-widgets/base",
            "_model_module_version": "1.2.0",
            "_model_name": "LayoutModel",
            "_view_count": null,
            "_view_module": "@jupyter-widgets/base",
            "_view_module_version": "1.2.0",
            "_view_name": "LayoutView",
            "align_content": null,
            "align_items": null,
            "align_self": null,
            "border": null,
            "bottom": null,
            "display": null,
            "flex": null,
            "flex_flow": null,
            "grid_area": null,
            "grid_auto_columns": null,
            "grid_auto_flow": null,
            "grid_auto_rows": null,
            "grid_column": null,
            "grid_gap": null,
            "grid_row": null,
            "grid_template_areas": null,
            "grid_template_columns": null,
            "grid_template_rows": null,
            "height": null,
            "justify_content": null,
            "justify_items": null,
            "left": null,
            "margin": null,
            "max_height": null,
            "max_width": null,
            "min_height": null,
            "min_width": null,
            "object_fit": null,
            "object_position": null,
            "order": null,
            "overflow": null,
            "overflow_x": null,
            "overflow_y": null,
            "padding": null,
            "right": null,
            "top": null,
            "visibility": null,
            "width": null
          }
        },
        "b46858914a354823b672066bae714b5d": {
          "model_module": "@jupyter-widgets/base",
          "model_module_version": "1.2.0",
          "model_name": "LayoutModel",
          "state": {
            "_model_module": "@jupyter-widgets/base",
            "_model_module_version": "1.2.0",
            "_model_name": "LayoutModel",
            "_view_count": null,
            "_view_module": "@jupyter-widgets/base",
            "_view_module_version": "1.2.0",
            "_view_name": "LayoutView",
            "align_content": null,
            "align_items": null,
            "align_self": null,
            "border": null,
            "bottom": null,
            "display": null,
            "flex": null,
            "flex_flow": null,
            "grid_area": null,
            "grid_auto_columns": null,
            "grid_auto_flow": null,
            "grid_auto_rows": null,
            "grid_column": null,
            "grid_gap": null,
            "grid_row": null,
            "grid_template_areas": null,
            "grid_template_columns": null,
            "grid_template_rows": null,
            "height": null,
            "justify_content": null,
            "justify_items": null,
            "left": null,
            "margin": null,
            "max_height": null,
            "max_width": null,
            "min_height": null,
            "min_width": null,
            "object_fit": null,
            "object_position": null,
            "order": null,
            "overflow": null,
            "overflow_x": null,
            "overflow_y": null,
            "padding": null,
            "right": null,
            "top": null,
            "visibility": null,
            "width": null
          }
        },
        "b46ac524e12d4743be788a5d0ddf6e89": {
          "model_module": "@jupyter-widgets/base",
          "model_module_version": "1.2.0",
          "model_name": "LayoutModel",
          "state": {
            "_model_module": "@jupyter-widgets/base",
            "_model_module_version": "1.2.0",
            "_model_name": "LayoutModel",
            "_view_count": null,
            "_view_module": "@jupyter-widgets/base",
            "_view_module_version": "1.2.0",
            "_view_name": "LayoutView",
            "align_content": null,
            "align_items": null,
            "align_self": null,
            "border": null,
            "bottom": null,
            "display": null,
            "flex": null,
            "flex_flow": null,
            "grid_area": null,
            "grid_auto_columns": null,
            "grid_auto_flow": null,
            "grid_auto_rows": null,
            "grid_column": null,
            "grid_gap": null,
            "grid_row": null,
            "grid_template_areas": null,
            "grid_template_columns": null,
            "grid_template_rows": null,
            "height": null,
            "justify_content": null,
            "justify_items": null,
            "left": null,
            "margin": null,
            "max_height": null,
            "max_width": null,
            "min_height": null,
            "min_width": null,
            "object_fit": null,
            "object_position": null,
            "order": null,
            "overflow": null,
            "overflow_x": null,
            "overflow_y": null,
            "padding": null,
            "right": null,
            "top": null,
            "visibility": null,
            "width": null
          }
        },
        "b7cc1c26b5704fb9981215c01add4698": {
          "model_module": "@jupyter-widgets/base",
          "model_module_version": "1.2.0",
          "model_name": "LayoutModel",
          "state": {
            "_model_module": "@jupyter-widgets/base",
            "_model_module_version": "1.2.0",
            "_model_name": "LayoutModel",
            "_view_count": null,
            "_view_module": "@jupyter-widgets/base",
            "_view_module_version": "1.2.0",
            "_view_name": "LayoutView",
            "align_content": null,
            "align_items": null,
            "align_self": null,
            "border": null,
            "bottom": null,
            "display": null,
            "flex": null,
            "flex_flow": null,
            "grid_area": null,
            "grid_auto_columns": null,
            "grid_auto_flow": null,
            "grid_auto_rows": null,
            "grid_column": null,
            "grid_gap": null,
            "grid_row": null,
            "grid_template_areas": null,
            "grid_template_columns": null,
            "grid_template_rows": null,
            "height": null,
            "justify_content": null,
            "justify_items": null,
            "left": null,
            "margin": null,
            "max_height": null,
            "max_width": null,
            "min_height": null,
            "min_width": null,
            "object_fit": null,
            "object_position": null,
            "order": null,
            "overflow": null,
            "overflow_x": null,
            "overflow_y": null,
            "padding": null,
            "right": null,
            "top": null,
            "visibility": null,
            "width": null
          }
        },
        "bfa0448531524bd2b576bd7796760a81": {
          "model_module": "@jupyter-widgets/controls",
          "model_module_version": "1.5.0",
          "model_name": "HBoxModel",
          "state": {
            "_dom_classes": [],
            "_model_module": "@jupyter-widgets/controls",
            "_model_module_version": "1.5.0",
            "_model_name": "HBoxModel",
            "_view_count": null,
            "_view_module": "@jupyter-widgets/controls",
            "_view_module_version": "1.5.0",
            "_view_name": "HBoxView",
            "box_style": "",
            "children": [
              "IPY_MODEL_a67017356b314c028927ba07cc5f5e05",
              "IPY_MODEL_13ce0d0740d84d3cb5c2ae93352e101c",
              "IPY_MODEL_ad3e276bf5d24ae69fd9a51b55169d7f"
            ],
            "layout": "IPY_MODEL_9073d3765d454201ac2f75fe523eaf3c"
          }
        },
        "c178ba60c99845e29736979785697baf": {
          "model_module": "@jupyter-widgets/controls",
          "model_module_version": "1.5.0",
          "model_name": "HTMLModel",
          "state": {
            "_dom_classes": [],
            "_model_module": "@jupyter-widgets/controls",
            "_model_module_version": "1.5.0",
            "_model_name": "HTMLModel",
            "_view_count": null,
            "_view_module": "@jupyter-widgets/controls",
            "_view_module_version": "1.5.0",
            "_view_name": "HTMLView",
            "description": "",
            "description_tooltip": null,
            "layout": "IPY_MODEL_b7cc1c26b5704fb9981215c01add4698",
            "placeholder": "​",
            "style": "IPY_MODEL_9ab053b95e664475924c094b4c16eabe",
            "value": "100%"
          }
        },
        "c46d87699a374875b01c3ea4a40d0b9d": {
          "model_module": "@jupyter-widgets/base",
          "model_module_version": "1.2.0",
          "model_name": "LayoutModel",
          "state": {
            "_model_module": "@jupyter-widgets/base",
            "_model_module_version": "1.2.0",
            "_model_name": "LayoutModel",
            "_view_count": null,
            "_view_module": "@jupyter-widgets/base",
            "_view_module_version": "1.2.0",
            "_view_name": "LayoutView",
            "align_content": null,
            "align_items": null,
            "align_self": null,
            "border": null,
            "bottom": null,
            "display": null,
            "flex": null,
            "flex_flow": null,
            "grid_area": null,
            "grid_auto_columns": null,
            "grid_auto_flow": null,
            "grid_auto_rows": null,
            "grid_column": null,
            "grid_gap": null,
            "grid_row": null,
            "grid_template_areas": null,
            "grid_template_columns": null,
            "grid_template_rows": null,
            "height": null,
            "justify_content": null,
            "justify_items": null,
            "left": null,
            "margin": null,
            "max_height": null,
            "max_width": null,
            "min_height": null,
            "min_width": null,
            "object_fit": null,
            "object_position": null,
            "order": null,
            "overflow": null,
            "overflow_x": null,
            "overflow_y": null,
            "padding": null,
            "right": null,
            "top": null,
            "visibility": null,
            "width": null
          }
        },
        "ca43ffde1834469ba24b43986b2bcaee": {
          "model_module": "@jupyter-widgets/controls",
          "model_module_version": "1.5.0",
          "model_name": "DescriptionStyleModel",
          "state": {
            "_model_module": "@jupyter-widgets/controls",
            "_model_module_version": "1.5.0",
            "_model_name": "DescriptionStyleModel",
            "_view_count": null,
            "_view_module": "@jupyter-widgets/base",
            "_view_module_version": "1.2.0",
            "_view_name": "StyleView",
            "description_width": ""
          }
        },
        "cac2f6b33f5949c7853ab58918905594": {
          "model_module": "@jupyter-widgets/controls",
          "model_module_version": "1.5.0",
          "model_name": "ProgressStyleModel",
          "state": {
            "_model_module": "@jupyter-widgets/controls",
            "_model_module_version": "1.5.0",
            "_model_name": "ProgressStyleModel",
            "_view_count": null,
            "_view_module": "@jupyter-widgets/base",
            "_view_module_version": "1.2.0",
            "_view_name": "StyleView",
            "bar_color": null,
            "description_width": ""
          }
        },
        "d8474397d18042948bebf84df1b7f9de": {
          "model_module": "@jupyter-widgets/controls",
          "model_module_version": "1.5.0",
          "model_name": "DescriptionStyleModel",
          "state": {
            "_model_module": "@jupyter-widgets/controls",
            "_model_module_version": "1.5.0",
            "_model_name": "DescriptionStyleModel",
            "_view_count": null,
            "_view_module": "@jupyter-widgets/base",
            "_view_module_version": "1.2.0",
            "_view_name": "StyleView",
            "description_width": ""
          }
        },
        "dfba460570174baa9eb153484b08b75a": {
          "model_module": "@jupyter-widgets/base",
          "model_module_version": "1.2.0",
          "model_name": "LayoutModel",
          "state": {
            "_model_module": "@jupyter-widgets/base",
            "_model_module_version": "1.2.0",
            "_model_name": "LayoutModel",
            "_view_count": null,
            "_view_module": "@jupyter-widgets/base",
            "_view_module_version": "1.2.0",
            "_view_name": "LayoutView",
            "align_content": null,
            "align_items": null,
            "align_self": null,
            "border": null,
            "bottom": null,
            "display": null,
            "flex": null,
            "flex_flow": null,
            "grid_area": null,
            "grid_auto_columns": null,
            "grid_auto_flow": null,
            "grid_auto_rows": null,
            "grid_column": null,
            "grid_gap": null,
            "grid_row": null,
            "grid_template_areas": null,
            "grid_template_columns": null,
            "grid_template_rows": null,
            "height": null,
            "justify_content": null,
            "justify_items": null,
            "left": null,
            "margin": null,
            "max_height": null,
            "max_width": null,
            "min_height": null,
            "min_width": null,
            "object_fit": null,
            "object_position": null,
            "order": null,
            "overflow": null,
            "overflow_x": null,
            "overflow_y": null,
            "padding": null,
            "right": null,
            "top": null,
            "visibility": null,
            "width": null
          }
        },
        "e1da2c6f821246238d459ea95b704e3b": {
          "model_module": "@jupyter-widgets/controls",
          "model_module_version": "1.5.0",
          "model_name": "HTMLModel",
          "state": {
            "_dom_classes": [],
            "_model_module": "@jupyter-widgets/controls",
            "_model_module_version": "1.5.0",
            "_model_name": "HTMLModel",
            "_view_count": null,
            "_view_module": "@jupyter-widgets/controls",
            "_view_module_version": "1.5.0",
            "_view_name": "HTMLView",
            "description": "",
            "description_tooltip": null,
            "layout": "IPY_MODEL_0b341e997b2c49de9879d879e86c311d",
            "placeholder": "​",
            "style": "IPY_MODEL_9dc95f579d404cd3acb8152c947ae835",
            "value": "100%"
          }
        },
        "e88879c17444413a9fd6bd6c465d83b7": {
          "model_module": "@jupyter-widgets/controls",
          "model_module_version": "1.5.0",
          "model_name": "HTMLModel",
          "state": {
            "_dom_classes": [],
            "_model_module": "@jupyter-widgets/controls",
            "_model_module_version": "1.5.0",
            "_model_name": "HTMLModel",
            "_view_count": null,
            "_view_module": "@jupyter-widgets/controls",
            "_view_module_version": "1.5.0",
            "_view_name": "HTMLView",
            "description": "",
            "description_tooltip": null,
            "layout": "IPY_MODEL_9cb05565d13f47cd8a0c3f48485cbe56",
            "placeholder": "​",
            "style": "IPY_MODEL_ff9a8759e8ac4294b583432d8cf67ee4",
            "value": " 856/856 [55:55&lt;00:00,  3.06s/it]"
          }
        },
        "ff9a8759e8ac4294b583432d8cf67ee4": {
          "model_module": "@jupyter-widgets/controls",
          "model_module_version": "1.5.0",
          "model_name": "DescriptionStyleModel",
          "state": {
            "_model_module": "@jupyter-widgets/controls",
            "_model_module_version": "1.5.0",
            "_model_name": "DescriptionStyleModel",
            "_view_count": null,
            "_view_module": "@jupyter-widgets/base",
            "_view_module_version": "1.2.0",
            "_view_name": "StyleView",
            "description_width": ""
          }
        }
      }
    }
  },
  "nbformat": 4,
  "nbformat_minor": 0
}
